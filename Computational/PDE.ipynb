{
 "cells": [
  {
   "cell_type": "code",
   "execution_count": 1,
   "metadata": {},
   "outputs": [
    {
     "name": "stdout",
     "output_type": "stream",
     "text": [
      "Populating the interactive namespace from numpy and matplotlib\n"
     ]
    }
   ],
   "source": [
    "#Partial Diff Eq Project\n",
    "%pylab inline\n",
    "from scipy.optimize import fsolve\n",
    "from matplotlib import animation\n",
    "from IPython.display import HTML\n",
    "\n",
    "def implot(xx,yy,zz):\n",
    "    \"\"\"takes three matrices, xx and yy as from meshgrid(x,y), zz = f(xx,yy).\n",
    "    produces an image plot of f(x,y)\"\"\"\n",
    "    im = imshow(zz,extent=(xx.min(),xx.max(),yy.min(),yy.max()),\n",
    "                origin='lower',aspect='auto')\n",
    "    colorbar()\n",
    "    return im"
   ]
  },
  {
   "cell_type": "markdown",
   "metadata": {},
   "source": [
    "# Modeling a Gas Centrifuge\n",
    "\n",
    "#### How does the maximum pressure in the system depend on the angular velocity of the gas?\n",
    "\n",
    "![alt text](gas.jpg)"
   ]
  },
  {
   "cell_type": "markdown",
   "metadata": {},
   "source": [
    "From the image of the centrifuge above and knowing the basics of how they work, we can see that there will be a vertical acceleration due to gravity but also a horizontal centrifugal acceleration due to the rotation.\n",
    "\n",
    "This means that our PDE is going to be,\n",
    "\n",
    "$$\\vec{\\nabla} P(r,z) = -\\rho(r,z) g \\hat{z} + \\rho(r,z) r\\omega^2 \\hat{r}$$\n",
    "\n",
    "I will spare the details, but if you go through and solve this equation analytically using PDE techniques, namely assuming the behavior, P(r,z) = R(r)Z(z) and subsituting $\\rho(r,z) = ap$, where $a$ is a proportionality constant steaming from the ideal gas law, we get the solution,\n",
    "\n",
    "$$ P(r,z) = P_{0} e^{\\frac{ar^2\\omega^2}{2} - agz}$$\n",
    "\n",
    "\n",
    "For fsolve, we need a matrix representation of this state for a return value, and it needs to be equal to zero. Because there are two equations here, we need both the left and right side to go to zero,\n",
    "\n",
    "$$(\\partial_r P(r,z) - \\rho(r,z) r \\omega^2) + (\\partial_z P(r,z) + \\rho(r,z) g) = 0$$\n",
    "\n",
    "With both of those equations, we can compare the analytical and the numerical solutions with varying angular velocities to see how accurate and sensible the results are. "
   ]
  },
  {
   "cell_type": "code",
   "execution_count": 37,
   "metadata": {},
   "outputs": [],
   "source": [
    "def f(s, r, nr,dr,nz,dz,w,a,g):\n",
    "    p = s.reshape((nr,nz)) #Resize the original state\n",
    "    rho = a*p #Calculate the density\n",
    "    pa = np.zeros((nr + 2,nz + 2)) #Create larger matrix for boundry conditions\n",
    "    \n",
    "    pa[1:-1,1:-1] = p #Copy original into the central region of the new matrix\n",
    "    pa[:,0] = pa[:,1] #Setting the r = 0 boundry condition\n",
    "    pa[:,-1] = pa[:,-2] #Setting the r = last element boundry condition\n",
    "    pa[0,:] = pa[1,:]*(1 + g*a*dz) #Setting the z = 0 boundry condition\n",
    "    pa[-1,:] = pa[-2,:] #Setting the z = last element boundry condition\n",
    "    \n",
    "    pa[0,1] = 1 #An injection of gas into the system (At the bottom center of the tank)\n",
    "    \n",
    "    dpdr = (pa[1:-1,1:-1] - pa[1:-1,:-2])/dr #Backwards difference for the pressure wrt radius\n",
    "    dpdz = (pa[1:-1,1:-1] - pa[:-2,1:-1])/dz #Backwards difference for the pressure wrt height\n",
    "    fsolveEQN = (dpdr - rho*r*w**2) + (dpdz + rho*g) \n",
    "    \n",
    "    return fsolveEQN.reshape(nr*nz) #return a slice notation representation of the equation"
   ]
  },
  {
   "cell_type": "code",
   "execution_count": 41,
   "metadata": {},
   "outputs": [
    {
     "data": {
      "text/plain": [
       "1.6314936751726747"
      ]
     },
     "execution_count": 41,
     "metadata": {},
     "output_type": "execute_result"
    },
    {
     "data": {
      "image/png": "[encoded data removed]",
      "text/plain": [
       "<Figure size 432x288 with 2 Axes>"
      ]
     },
     "metadata": {
      "needs_background": "light"
     },
     "output_type": "display_data"
    }
   ],
   "source": [
    "nr,nz = 30,30\n",
    "#Setting up a 1 meter by 1 meter centrifuge..\n",
    "r = linspace(0,1,nr) \n",
    "dr = r[1] - r[0]\n",
    "z = linspace(0,1,nz)\n",
    "dz = z[1] - z[0]\n",
    "rr,zz = meshgrid(r,z) #Creating a matrix version\n",
    "p0 = zeros((nr,nz)) #Initial pressure is zero...\n",
    "ts = linspace(0,2,100)\n",
    "a = 1; g = 1; #The math is easier if these are 1, plus in the above equation, the\n",
    "                #w^2 should have a much higher dependence anyways\n",
    "#Setting the initial angular velocity and solving\n",
    "w = 1\n",
    "ans = fsolve(f, p0.reshape(-1),(r,nr,dr,nz,dz,w,a,g))\n",
    "implot(rr,zz,ans.reshape(nr,nz))\n",
    "ans.reshape(nr,nz)[0,-1] #Bottom corner, or where the highest pressure is"
   ]
  },
  {
   "cell_type": "code",
   "execution_count": 42,
   "metadata": {},
   "outputs": [
    {
     "data": {
      "text/plain": [
       "8.493030955330044"
      ]
     },
     "execution_count": 42,
     "metadata": {},
     "output_type": "execute_result"
    },
    {
     "data": {
      "image/png": "[encoded data removed]",
      "text/plain": [
       "<Figure size 432x288 with 2 Axes>"
      ]
     },
     "metadata": {
      "needs_background": "light"
     },
     "output_type": "display_data"
    }
   ],
   "source": [
    "w = 2\n",
    "ans = fsolve(f, p0.reshape(-1),(r,nr,dr,nz,dz,w,a,g))\n",
    "implot(rr,zz,ans.reshape(nr,nz))\n",
    "ans.reshape(nr,nz)[0,-1]"
   ]
  },
  {
   "cell_type": "code",
   "execution_count": 44,
   "metadata": {},
   "outputs": [
    {
     "data": {
      "text/plain": [
       "35029.08556861025"
      ]
     },
     "execution_count": 44,
     "metadata": {},
     "output_type": "execute_result"
    },
    {
     "data": {
      "image/png": "[encoded data removed]",
      "text/plain": [
       "<Figure size 432x288 with 2 Axes>"
      ]
     },
     "metadata": {
      "needs_background": "light"
     },
     "output_type": "display_data"
    }
   ],
   "source": [
    "w = 4\n",
    "ans = fsolve(f, p0.reshape(-1),(r,nr,dr,nz,dz,w,a,g))\n",
    "implot(rr,zz,ans.reshape(nr,nz))\n",
    "ans.reshape(nr,nz)[0,-1]"
   ]
  },
  {
   "cell_type": "code",
   "execution_count": null,
   "metadata": {},
   "outputs": [],
   "source": []
  }
 ],
 "metadata": {
  "kernelspec": {
   "display_name": "Python 3",
   "language": "python",
   "name": "python3"
  },
  "language_info": {
   "codemirror_mode": {
    "name": "ipython",
    "version": 3
   },
   "file_extension": ".py",
   "mimetype": "text/x-python",
   "name": "python",
   "nbconvert_exporter": "python",
   "pygments_lexer": "ipython3",
   "version": "3.7.3"
  }
 },
 "nbformat": 4,
 "nbformat_minor": 2
}
