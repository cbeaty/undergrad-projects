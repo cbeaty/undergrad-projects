{
 "cells": [
  {
   "cell_type": "code",
   "execution_count": 5,
   "metadata": {},
   "outputs": [],
   "source": [
    "import pandas as pd\n",
    "import numpy as np\n",
    "from astropy.time import Time\n",
    "from astropy import units as u\n",
    "from astropy.coordinates import SkyCoord\n",
    "from astropy.coordinates import ICRS, Galactic, FK4, FK5\n",
    "from astropy.coordinates import Angle\n",
    "from astropy.coordinates import EarthLocation"
   ]
  },
  {
   "cell_type": "code",
   "execution_count": 6,
   "metadata": {
    "scrolled": false
   },
   "outputs": [
    {
     "name": "stdout",
     "output_type": "stream",
     "text": [
      "position angle: 148.277340954434\n",
      "Separartion: 11.820634874587135\n"
     ]
    }
   ],
   "source": [
    "c1 = SkyCoord(61.7612138, 54.187544, unit='deg', frame = FK5)\n",
    "c2 = SkyCoord(61.7641642, 54.184751,unit='deg', frame = FK5)\n",
    "sep = c1.separation(c2)\n",
    "PA = c1.position_angle(c2).to(u.deg)\n",
    "print('position angle:', PA.deg)\n",
    "print('Separartion:', sep.arcsec)"
   ]
  },
  {
   "cell_type": "code",
   "execution_count": 10,
   "metadata": {},
   "outputs": [],
   "source": [
    "j = pd.ExcelFile('Jupyter.xlsx')\n",
    "jupyter = pd.read_excel(j, 'RA_DEC')\n",
    "sao = pd.read_csv('PA.csv')"
   ]
  },
  {
   "cell_type": "code",
   "execution_count": 27,
   "metadata": {},
   "outputs": [],
   "source": [
    "def f(csv):\n",
    "    PAS = np.array([])\n",
    "    SEP = np.array([])\n",
    "    DDEC = np.array([])\n",
    "    DRA = np.array([])\n",
    "    i = 0\n",
    "    while i < csv['RA_1'].size:\n",
    "        #print(csv['RA_1'][i], csv['Dec_1'][i])\n",
    "        #print(csv['RA_2'][i], csv['Dec_2'][i])\n",
    "        c1 = SkyCoord(csv['RA_1'][i], csv['Dec_1'][i], unit='deg', frame = FK5)\n",
    "        c2 = SkyCoord(csv['RA_2'][i], csv['Dec_2'][i],unit='deg', frame = FK5)\n",
    "        sep = c1.separation(c2)\n",
    "        PA = c1.position_angle(c2).to(u.deg)\n",
    "        #print(PA.deg)\n",
    "        PAS = np.append(PAS, PA.deg)\n",
    "        SEP = np.append(SEP, sep.arcsec)\n",
    "        dRA = sep*np.sin(PA.rad)\n",
    "        dDec = sep*np.cos(PA.rad)\n",
    "        DRA = np.append(DRA, dRA.arcsec)\n",
    "        DDEC = np.append(DDEC, dDec.arcsec)\n",
    "        i+=1\n",
    "    return PAS, SEP, DRA, DDEC"
   ]
  },
  {
   "cell_type": "code",
   "execution_count": 28,
   "metadata": {
    "scrolled": false
   },
   "outputs": [
    {
     "name": "stdout",
     "output_type": "stream",
     "text": [
      "[319.89477977 147.25478862 199.53626512 196.16642085 276.99979177\n",
      " 159.72698099 344.47776187 148.30919142 330.69166073 346.29342469\n",
      "  30.94152194 266.6905139    0.           1.8397606   76.67608103\n",
      " 334.03124693]\n",
      "[ 100.94651668    7.46364404   31.47207796   29.46418883   81.94731592\n",
      "   87.38886483   21.7244923   120.73916893  105.09067227   30.49398768\n",
      "   72.93658669  117.53127321    0.         3362.21011551  102.48908924\n",
      "  139.81268023]\n",
      "[ -65.02907165    4.03711624  -10.52437092   -8.20366289  -81.33652935\n",
      "   30.27971336   -5.81374284   63.42853024  -51.44286923   -7.22553941\n",
      "   37.50129073 -117.33526307    0.          107.94161213   99.73036484\n",
      "  -61.22130416]\n",
      "[  77.21022646   -6.27755325  -29.66023108  -28.29908724    9.98656998\n",
      "  -81.97531735   20.93212746 -102.73640283   91.63885969   29.62557788\n",
      "   62.55716483   -6.78499993    0.         3360.47697049   23.61922402\n",
      "  125.69621104]\n"
     ]
    }
   ],
   "source": [
    "PAS, SEP, DRA, DDEC = f(JS)\n",
    "print(PAS)\n",
    "print(SEP)\n",
    "print(DRA)\n",
    "print(DDEC)"
   ]
  },
  {
   "cell_type": "code",
   "execution_count": 29,
   "metadata": {},
   "outputs": [
    {
     "name": "stdout",
     "output_type": "stream",
     "text": [
      "[148.28376256 163.56343274 193.77944581 194.07628672 160.02078887\n",
      "  90.41008609 169.1908983    0.2708949  145.28430837 145.96179329\n",
      " 198.22660453 194.82760512 139.38049999 177.6496728  253.61703111\n",
      " 255.79461943]\n",
      "[1.18227784e+01 1.04805531e+01 2.92630587e+01 3.07514748e+01\n",
      " 6.45576082e+01 2.15865809e+04 2.43639970e+01 9.45079685e+02\n",
      " 2.54065921e+02 3.28128011e+02 1.14561549e+01 1.97394896e+01\n",
      " 6.41224264e+00 1.07067671e+01 6.21708603e+01 5.43017166e+01]\n",
      "[ 6.21538534e+00  2.96551078e+00 -6.97002337e+00 -7.47917645e+00\n",
      "  2.20579899e+01  2.15860280e+04  4.56915951e+00  4.46832757e+00\n",
      "  1.44691727e+02  1.83668213e+02 -3.58321021e+00 -5.05156326e+00\n",
      "  4.17457893e+00  4.39078574e-01 -5.96465902e+01 -5.26412955e+01]\n",
      "[ -10.05719023  -10.05225046  -28.4208617   -29.82809287  -60.67231539\n",
      " -154.50144942  -23.9317181   945.06912189 -208.83916415 -271.90803413\n",
      "  -10.88136432  -19.08216859   -4.86721136  -10.69776013  -17.53568216\n",
      "  -13.32555568]\n"
     ]
    }
   ],
   "source": [
    "PAS, SEP, DRA, DDEC = f(sao)\n",
    "print(PAS)\n",
    "print(SEP)\n",
    "print(DRA)\n",
    "print(DDEC)"
   ]
  },
  {
   "cell_type": "code",
   "execution_count": null,
   "metadata": {
    "collapsed": true
   },
   "outputs": [],
   "source": [
    "dRA = sep*np.sin(PA.rad)\n",
    "dDec = sep*np.cos(PA.rad)\n",
    "print(dRA.arcsec, dDec.arcsec)"
   ]
  },
  {
   "cell_type": "code",
   "execution_count": 15,
   "metadata": {},
   "outputs": [],
   "source": [
    "def f(csv):\n",
    "    PAS = np.array([])\n",
    "    SEP = np.array([])\n",
    "    i = 0\n",
    "    while i < csv['RA_1'].size:\n",
    "        c1 = SkyCoord(csv['RA_1'][i], csv['Dec_1'][i], unit='deg', frame = FK5)\n",
    "        c2 = SkyCoord(csv['RA_2'][i], csv['Dec_2'][i],unit='deg', frame = FK5)\n",
    "        sep = c1.separation(c2)\n",
    "        PA = c1.position_angle(c2).to(u.deg)\n",
    "        #print(PA.deg)\n",
    "        PAS = np.append(PAS, PA.deg)\n",
    "        SEP = np.append(SEP, sep.arcsec)\n",
    "        i+=1\n",
    "    return PAS, SEP"
   ]
  },
  {
   "cell_type": "code",
   "execution_count": 18,
   "metadata": {},
   "outputs": [],
   "source": [
    "PAS, SEP = f(jupyter)\n",
    "PAS, SEP = f(sao)"
   ]
  },
  {
   "cell_type": "code",
   "execution_count": 19,
   "metadata": {},
   "outputs": [
    {
     "name": "stdout",
     "output_type": "stream",
     "text": [
      "[148.28376256 163.56343274 193.77944581 194.07628672 160.02078887\n",
      "  90.41008609 169.1908983    0.2708949  145.28430837 145.96179329\n",
      " 198.22660453 194.82760512 139.38049999 177.6496728  253.61703111\n",
      " 255.79461943] [1.18227784e+01 1.04805531e+01 2.92630587e+01 3.07514748e+01\n",
      " 6.45576082e+01 2.15865809e+04 2.43639970e+01 9.45079685e+02\n",
      " 2.54065921e+02 3.28128011e+02 1.14561549e+01 1.97394896e+01\n",
      " 6.41224264e+00 1.07067671e+01 6.21708603e+01 5.43017166e+01]\n"
     ]
    }
   ],
   "source": [
    "print(PAS, SEP)"
   ]
  },
  {
   "cell_type": "code",
   "execution_count": null,
   "metadata": {},
   "outputs": [],
   "source": []
  }
 ],
 "metadata": {
  "kernelspec": {
   "display_name": "Python 3",
   "language": "python",
   "name": "python3"
  },
  "language_info": {
   "codemirror_mode": {
    "name": "ipython",
    "version": 3
   },
   "file_extension": ".py",
   "mimetype": "text/x-python",
   "name": "python",
   "nbconvert_exporter": "python",
   "pygments_lexer": "ipython3",
   "version": "3.7.3"
  }
 },
 "nbformat": 4,
 "nbformat_minor": 2
}
